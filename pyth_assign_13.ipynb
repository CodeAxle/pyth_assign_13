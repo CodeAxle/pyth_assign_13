{
 "cells": [
  {
   "cell_type": "markdown",
   "id": "735ed403",
   "metadata": {},
   "source": [
    "# 1."
   ]
  },
  {
   "cell_type": "code",
   "execution_count": 1,
   "id": "29d44553",
   "metadata": {},
   "outputs": [],
   "source": [
    "# Excel spreadsheets and CSV (Comma-Separated Values) spreadsheets serve different purposes and have distinct advantages\n",
    "#  over each other in various scenarios:\n",
    "\n",
    "# Advantages of Excel Spreadsheets:\n",
    "\n",
    "# a) Rich Formatting: Excel allows for rich formatting options such as colors, fonts, cell styles, conditional formatting,\n",
    "#     and cell merging. This makes it suitable for creating visually appealing and structured reports.\n",
    "# b) Formulas and Functions: Excel provides a wide range of built-in formulas and functions for calculations, data manipulation,\n",
    "#     and analysis. Users can perform complex calculations and data transformations directly within Excel.\n",
    "# c) Charts and Graphs: Excel offers extensive charting and graphing capabilities, allowing users to create various types of\n",
    "#     charts (e.g., bar charts, pie charts, line charts) to visualize data trends and patterns.\n",
    "# d) Data Validation: Excel supports data validation rules, which allow users to control the type and format of data entered \n",
    "#     into cells. This helps maintain data integrity and accuracy.\n",
    "# e) Data Tables and PivotTables: Excel supports data tables and PivotTables, which are powerful tools for summarizing, \n",
    "#     analyzing, and presenting large datasets in a structured and interactive format.\n",
    "# f) Macros and Automation: Excel enables users to create macros and automate repetitive tasks using VBA (Visual Basic for \n",
    "#     Applications). This helps improve productivity and efficiency in data processing workflows."
   ]
  },
  {
   "cell_type": "markdown",
   "id": "ce67dc4a",
   "metadata": {},
   "source": [
    "# 2."
   ]
  },
  {
   "cell_type": "code",
   "execution_count": 3,
   "id": "15af11a9",
   "metadata": {},
   "outputs": [],
   "source": [
    "# a) Creating a CSV Reader Object (csv.reader()):\n",
    "\n",
    "# Pass a file object opened in read mode ('r') to the csv.reader() function.\n",
    "# example:\n",
    "import csv\n",
    "\n",
    "with open('data.csv', 'r') as csv_file:\n",
    "    csv_reader = csv.reader(csv_file)\n",
    "    # Now, csv_reader is a CSV reader object ready to read data from data.csv"
   ]
  },
  {
   "cell_type": "code",
   "execution_count": 4,
   "id": "d6dee55a",
   "metadata": {},
   "outputs": [],
   "source": [
    "# b) Creating a CSV Writer Object (csv.writer()):\n",
    "\n",
    "# Pass a file object opened in write mode ('w') or append mode ('a') to the csv.writer() function.\n",
    "# Optionally, you can specify the newline='' parameter when opening the file to ensure that newline characters are \n",
    "#  handled properly in CSV files.\n",
    "#example:\n",
    "import csv\n",
    "\n",
    "with open('output.csv', 'w', newline='') as csv_file:\n",
    "    csv_writer = csv.writer(csv_file)\n",
    "    # Now, csv_writer is a CSV writer object ready to write data to output.csv"
   ]
  },
  {
   "cell_type": "markdown",
   "id": "e8c5736f",
   "metadata": {},
   "source": [
    "# 3."
   ]
  },
  {
   "cell_type": "code",
   "execution_count": 6,
   "id": "c74a06bf",
   "metadata": {},
   "outputs": [],
   "source": [
    "# a) File Object for Reader (csv.reader()):\n",
    "\n",
    "# i) The File object for a reader should be opened in read mode ('r') or in text mode ('rt'), which is the default \n",
    "#  mode for opening files.\n",
    "# ii) The read mode ('r') allows reading from the file.\n",
    "\n",
    "# b) File Object for Writer (csv.writer()):\n",
    "\n",
    "# i) The File object for a writer should be opened in write mode ('w') or append mode ('a') to perform writing operations.\n",
    "# ii) Optionally, you can specify the newline='' parameter when opening the file to handle newline characters properly \n",
    "#  in CSV files."
   ]
  },
  {
   "cell_type": "markdown",
   "id": "eb9ec431",
   "metadata": {},
   "source": [
    "# 4."
   ]
  },
  {
   "cell_type": "code",
   "execution_count": 11,
   "id": "3bf289f5",
   "metadata": {},
   "outputs": [
    {
     "name": "stdout",
     "output_type": "stream",
     "text": [
      "CSV file 'output.csv' has been created.\n"
     ]
    }
   ],
   "source": [
    "# To write a list of data to a CSV file in Python, we use the csv.writer object along with the writerow() method.\n",
    "#example:\n",
    "import csv\n",
    "\n",
    "# List of data to write to CSV file\n",
    "data = [\n",
    "    ['Name', 'Age', 'City'],\n",
    "    ['John Doe', 30, 'New York'],\n",
    "    ['Jane Smith', 25, 'Los Angeles'],\n",
    "    ['Michael Johnson', 35, 'Chicago']\n",
    "]\n",
    "\n",
    "# Open the CSV file in write mode\n",
    "with open('output.csv', 'w', newline='') as csvfile:\n",
    "    # Create a CSV writer object\n",
    "    csv_writer = csv.writer(csvfile)\n",
    "    \n",
    "    # Write each row of data to the CSV file\n",
    "    for row in data:\n",
    "        csv_writer.writerow(row)\n",
    "\n",
    "print(\"CSV file 'output.csv' has been created.\")"
   ]
  },
  {
   "cell_type": "markdown",
   "id": "6f221f15",
   "metadata": {},
   "source": [
    "# 5."
   ]
  },
  {
   "cell_type": "code",
   "execution_count": 7,
   "id": "44414ab9",
   "metadata": {},
   "outputs": [],
   "source": [
    "# The delimiter and lineterminator are keyword arguments used in the csv.writer() function from the csv module in Python. Here's what they do:\n",
    "\n",
    "# a) Delimiter (delimiter):\n",
    "\n",
    "# i) The delimiter argument specifies the character used to separate fields (columns) in a CSV file.\n",
    "# ii)  By default, the delimiter is a comma ,, but you can change it to any character you want, such as a tab \\t, a pipe |, \n",
    "#  or a semicolon ;.\n",
    "# example:\n",
    "import csv\n",
    "\n",
    "with open('output.csv', 'w', newline='') as csv_file:\n",
    "    csv_writer = csv.writer(csv_file, delimiter='\\t')\n",
    "    csv_writer.writerow(['Name', 'Age', 'City'])"
   ]
  },
  {
   "cell_type": "code",
   "execution_count": 8,
   "id": "88fdfbfb",
   "metadata": {},
   "outputs": [],
   "source": [
    "# b) Line Terminator (lineterminator):\n",
    "\n",
    "# i) The lineterminator argument specifies the character sequence used to terminate lines (rows) in a CSV file.\n",
    "# ii) By default, the line terminator is the newline character '\\n', which indicates the end of a line.\n",
    "# iii)However, you can change it to a different sequence if needed, such as '\\r\\n' for Windows-style line endings \n",
    "#  or '\\r' for old Mac-style line endings.\n",
    "\n",
    "# example:\n",
    "import csv\n",
    "\n",
    "rows = [\n",
    "    ['Alice', 25, 'New York'],\n",
    "    ['Bob', 30, 'Los Angeles'],\n",
    "    ['Charlie', 35, 'Chicago']\n",
    "]\n",
    "\n",
    "with open('output.csv', 'w', newline='') as csv_file:\n",
    "    csv_writer = csv.writer(csv_file, lineterminator='\\r\\n')\n",
    "    csv_writer.writerows(rows)"
   ]
  },
  {
   "cell_type": "markdown",
   "id": "bd5dc2d3",
   "metadata": {},
   "source": [
    "# 6."
   ]
  },
  {
   "cell_type": "code",
   "execution_count": 9,
   "id": "3246b21f",
   "metadata": {},
   "outputs": [
    {
     "name": "stdout",
     "output_type": "stream",
     "text": [
      "John Doe\n",
      "30\n",
      "New York\n"
     ]
    }
   ],
   "source": [
    "# The json.loads() function in Python takes a string of JSON data and converts it into a Python data structure. \n",
    "\n",
    "# code:\n",
    "import json\n",
    "\n",
    "# Sample JSON data as a string\n",
    "json_data = '{\"name\": \"John Doe\", \"age\": 30, \"city\": \"New York\"}'\n",
    "\n",
    "# Convert JSON string to Python data structure (dictionary)\n",
    "python_data = json.loads(json_data)\n",
    "\n",
    "# Access elements of the Python data structure\n",
    "print(python_data['name'])  # Output: John Doe\n",
    "print(python_data['age'])   # Output: 30\n",
    "print(python_data['city'])  # Output: New York"
   ]
  },
  {
   "cell_type": "code",
   "execution_count": 10,
   "id": "31222db0",
   "metadata": {},
   "outputs": [
    {
     "name": "stdout",
     "output_type": "stream",
     "text": [
      "{\"name\": \"John Doe\", \"age\": 30, \"city\": \"New York\"}\n"
     ]
    }
   ],
   "source": [
    "# Python data structure to json:\n",
    "import json\n",
    "\n",
    "# Python data structure (dictionary)\n",
    "python_data = {\n",
    "    \"name\": \"John Doe\",\n",
    "    \"age\": 30,\n",
    "    \"city\": \"New York\"\n",
    "}\n",
    "\n",
    "# Convert Python data structure to JSON string\n",
    "json_data = json.dumps(python_data)\n",
    "\n",
    "# Print the JSON string\n",
    "print(json_data)"
   ]
  },
  {
   "cell_type": "code",
   "execution_count": null,
   "id": "aa281679",
   "metadata": {},
   "outputs": [],
   "source": []
  }
 ],
 "metadata": {
  "kernelspec": {
   "display_name": "Python 3 (ipykernel)",
   "language": "python",
   "name": "python3"
  },
  "language_info": {
   "codemirror_mode": {
    "name": "ipython",
    "version": 3
   },
   "file_extension": ".py",
   "mimetype": "text/x-python",
   "name": "python",
   "nbconvert_exporter": "python",
   "pygments_lexer": "ipython3",
   "version": "3.11.5"
  }
 },
 "nbformat": 4,
 "nbformat_minor": 5
}
